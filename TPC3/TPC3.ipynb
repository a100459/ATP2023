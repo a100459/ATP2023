{
 "cells": [
  {
   "cell_type": "markdown",
   "metadata": {},
   "source": [
    "### TPC3\n",
    "Será feito o código para o jogo do adivinha com os dois modos de utilização (computador adivinha ou utilizador adivinha) e uma breve explicação de algumas linhas do código. "
   ]
  },
  {
   "cell_type": "code",
   "execution_count": null,
   "metadata": {},
   "outputs": [],
   "source": [
    "import random \n",
    "\n",
    "def computador():\n",
    "    numero_secreto = random.randrange(101)                                      # fornece um número aleatório de 0 a 100\n",
    "    tentativas = 0                                                              # variável que será usada para contar as tentativas que o computador faz                 \n",
    "    limite_inferior = 0                                                         # as duas variáveis seguintes definem os limites para o intervalo de busca\n",
    "    limite_superior = 100\n",
    "    print(\"Pensa num número entre 0 e 100. Vou tentar adivinhar.\")  \n",
    "\n",
    "    while True:                                                                 # loop que continua até o computador adivinhar o número\n",
    "        tentativa = int((limite_inferior + limite_superior) / 2  )              # calcula a média dos limites, para que a busca seja mais eficiente\n",
    "        print(str(tentativa) + \" é o número que pensaste?\")              \n",
    "        resposta = input( \"Responde 'Acertou', 'Maior' ou 'Menor': \").lower()   # pede ao utilizador que responda se a tentativa do computador está correta (\"Acertou\"), se o número que o utilizador pensou é maior do que a tentativa (\"Maior\") ou se é menor (\"Menor\"). A resposta é convertida para letras minúsculas (.lower()) para tornar a comparação de resposta insensível a maiúsculas/minúsculas. \n",
    "\n",
    "\n",
    "        if resposta == \"acertou\":                                               \n",
    "            tentativas += 1                                                     # se a resposta for \"acertou\", faz com que o contador de tentativas aumente e exibe quantas tentativas foram necessárias para o computador acertar.\n",
    "            print(\"Acertei em \" + str(tentativas) + \" tentativas!\")      \n",
    "            break                                                               # sai do loop; o computador acertou\n",
    "        elif resposta == \"maior\":                                               # se a resposta for \"maior\", adiciona +1 à variável tentativas e atualiza o limite inferior  \n",
    "            tentativas += 1\n",
    "            limite_inferior = tentativa + 1\n",
    "        elif resposta == \"menor\":                                               # se a resposta for \"menor\", adiciona +1 à variável tentativas e atualiza o limite superior\n",
    "            tentativas += 1\n",
    "            limite_superior = tentativa - 1\n",
    "        else:                                                                   # se a resposta não for nenhuma das opções válidas, mostra uma mensagem a informar que a resposta é inválida, pedindo para o utilizador responder corretamente\n",
    "            print(\"Resposta inválida. Por favor, responde 'Acertou', 'Maior' ou 'Menor'.\")\n",
    "\n",
    "def utilizador():\n",
    "    numero_secreto = random.randrange(101)\n",
    "    tentativas = 0\n",
    "    print(\"Vou pensar num número entre 0 e 100. Tenta adivinhar!\")\n",
    "\n",
    "    while True:                                                                 \n",
    "        tentativa = int(input(\"Tentativa: \"))                                   # solicita ao utilizador para escrever a sua tentativa\n",
    "        tentativas += 1                                                         # adiciona +1 à variável a cada vez que o utilizador fizer uma tentativa\n",
    "\n",
    "        if tentativa == numero_secreto:                                         # se a tentativa for igual ao número, quer dizer que o utilizador adivinhou o número\n",
    "            print(\"Acertaste em \" + str(tentativas) + \" tentativas!\")\n",
    "            break\n",
    "        elif tentativa < numero_secreto:                                        # se a tentativa do utilizador for menor que o número, informa ao utilizador que o número é maior do que a tentativa.\n",
    "            print(\"O número que pensei é Maior.\")\n",
    "        else:                                                                   # se não for nenhuma das anteriores, é porque a tentativa é maior do que o número\n",
    "            print(\"O número que pensei é Menor.\")\n",
    "\n",
    "\n",
    "modo = input(\"Escolhe o modo de jogo (1 para Computador adivinhar, 2 para Utilizador adivinhar): \")   # demonstra o modo como deve ser jogado\n",
    "\n",
    "if modo == \"1\":                                                   # se quisermos o modo \"1\", será \"chamada\" a função computador\n",
    "    computador()\n",
    "elif modo == \"2\":                                                 # se quisermos o modo \"2\", será \"chamada\" a função do utilizador\n",
    "    utilizador() \n",
    "else:                                                             # se for escrito outra coisa, o utilizador será informado que a resposta é inválida\n",
    "    print(\"Modo inválido. Escolha 1 ou 2 para o modo de jogo.\")\n"
   ]
  }
 ],
 "metadata": {
  "kernelspec": {
   "display_name": "Python 3",
   "language": "python",
   "name": "python3"
  },
  "language_info": {
   "codemirror_mode": {
    "name": "ipython",
    "version": 3
   },
   "file_extension": ".py",
   "mimetype": "text/x-python",
   "name": "python",
   "nbconvert_exporter": "python",
   "pygments_lexer": "ipython3",
   "version": "3.10.8"
  },
  "orig_nbformat": 4
 },
 "nbformat": 4,
 "nbformat_minor": 2
}
